{
 "cells": [
  {
   "cell_type": "markdown",
   "id": "fa9d23bc",
   "metadata": {},
   "source": [
    "# Assignment 2\n",
    "## 18 February 2023\n",
    "**Arch Promchan (Nuno)**"
   ]
  },
  {
   "cell_type": "markdown",
   "id": "4f74b4bf",
   "metadata": {},
   "source": [
    "1.Define two variables and assign them values of 100 and 29. After this, make the interpreter sum up the two numbers and multiply their result by 3. \n",
    "\n",
    "Calculate the 2nd exponent of the previous number and save it to a new variable.\n",
    "\n",
    "Make the program print the result in the following way:\n",
    "\n",
    "The result of the calculation was:149769\n",
    "\n",
    "Make sure you use valid variable names and name your variables meaningfully.\n",
    "\n",
    "Make sure that output of yourprogram has indentation as shown in the above example."
   ]
  },
  {
   "cell_type": "code",
   "execution_count": 69,
   "id": "00e63792",
   "metadata": {
    "scrolled": true
   },
   "outputs": [
    {
     "name": "stdout",
     "output_type": "stream",
     "text": [
      "The result of the calculation was:  149769\n"
     ]
    }
   ],
   "source": [
    "first_number = 100\n",
    "second_number = 29\n",
    "sum = first_number+second_number\n",
    "multiplicaton = sum*3\n",
    "final_result = multiplicaton**2\n",
    "print(\"The result of the calculation was: \", final_result)"
   ]
  },
  {
   "cell_type": "markdown",
   "id": "c7740b72",
   "metadata": {},
   "source": [
    "2.Write a program that creates a password by asking the user to input their name, age, year of birth. Save all in separate variables using the right type for each of them. Program should create the password in following way: takes last two digits of year of birth, first 3 letters from name, \n",
    "\n",
    "and the 2nd power of the age according to the example below:\n",
    "\n",
    "Name: John\n",
    "\n",
    "Year of birt: 1995\n",
    "\n",
    "Age: 26\n",
    "\n",
    "Password: 95Joh676\n",
    "\n",
    "Hint: to get the desired output in print() all variables has to be type str."
   ]
  },
  {
   "cell_type": "code",
   "execution_count": 70,
   "id": "370160d9",
   "metadata": {},
   "outputs": [
    {
     "name": "stdout",
     "output_type": "stream",
     "text": [
      "Name: John\n",
      "Year of birt: 1995\n",
      "Age: 26\n",
      "Password: 95Joh676\n"
     ]
    }
   ],
   "source": [
    "Name = input(\"Name: \")\n",
    "Year = input(\"Year of birt: \")\n",
    "Age = int(input(\"Age: \"))\n",
    "number = Age**2\n",
    "print(\"Password: \"+Year[2:]+Name[0:3]+str(number))"
   ]
  },
  {
   "cell_type": "markdown",
   "id": "15617a8f",
   "metadata": {},
   "source": [
    "3.Write a program that asks for two numbers. If both numbers are even, the program prints \"Both numbers are even.\" If only one of the numbers is even, the program prints \"One of the numbers is even.\". Finally, if neither of the numbers is even, the program prints \"Both numbers are odd\".\n",
    "\n",
    "First number: 5\n",
    "\n",
    "Second number: 6\n",
    "\n",
    "One of the numbers is even."
   ]
  },
  {
   "cell_type": "code",
   "execution_count": 71,
   "id": "1b700b9e",
   "metadata": {},
   "outputs": [
    {
     "name": "stdout",
     "output_type": "stream",
     "text": [
      "First number: 5\n",
      "Second number: 6\n",
      "One of the numbers is even.\n"
     ]
    }
   ],
   "source": [
    "number1 = int(input(\"First number: \"))\n",
    "number2 = int(input(\"Second number: \"))\n",
    "if number1%2 == 0 and number2%2 == 0:\n",
    "    print(\"Both numbers are even.\")\n",
    "elif number1%2 == 0 or number2%2 == 0:\n",
    "    print(\"One of the numbers is even.\")\n",
    "else: \n",
    "    print(\"Both numbers are odd\")"
   ]
  },
  {
   "cell_type": "markdown",
   "id": "4a297858",
   "metadata": {},
   "source": [
    "4.Create a program, which asks the user for a number, and calculates the sum of all positive numbers from 0 to the user given input.\n",
    "\n",
    "If the user gives the number 4, the program calculates the sum 0+1+2+3, if 7, the calculation is 0+1+2+3+4+5+6. \n",
    "\n",
    "Program operates as bellow:\n",
    "\n",
    "Give an integer: 5\n",
    "\n",
    "The sum was: 10"
   ]
  },
  {
   "cell_type": "code",
   "execution_count": 72,
   "id": "cefbb845",
   "metadata": {},
   "outputs": [
    {
     "name": "stdout",
     "output_type": "stream",
     "text": [
      "Give an integer: 5\n",
      "The sum was: 10\n"
     ]
    }
   ],
   "source": [
    "given_number = int(input(\"Give an integer: \"))\n",
    "result = ((given_number*(given_number+1))/2)-given_number\n",
    "print(\"The sum was:\", int(result))"
   ]
  },
  {
   "cell_type": "markdown",
   "id": "13f9cc75",
   "metadata": {},
   "source": [
    "5.Create a program that can be used as a guessing game. The game is played by Dealer and Player. Dealer generates a random integer number between 0 and 10. Player has to guess it. The program should take input from Player as long as Player inputs same numberas Dealer’s input was. Player gets advice to choose greater or smaller numbers in next choice. Finally, program has to also display the number of tries until the number is guessed.\n",
    "\n",
    "Program operates as follow:\n",
    "\n",
    "Player: 2\n",
    "\n",
    "Try a greater number.\n",
    "\n",
    "Player: 7\n",
    "\n",
    "Try a smaller number.\n",
    "\n",
    "Player: 5\n",
    "\n",
    "That’s right! Number of tries: 3\n",
    "\n",
    "Hint: import random and generate random numbers by using random.randint() in the desired range."
   ]
  },
  {
   "cell_type": "code",
   "execution_count": 73,
   "id": "d66a80da",
   "metadata": {},
   "outputs": [
    {
     "name": "stdout",
     "output_type": "stream",
     "text": [
      "player: 5\n",
      "Try a greater number.\n",
      "player: 8\n",
      "Try a smaller number.\n",
      "player: 7\n",
      "That’s right! Number of tries: 3\n"
     ]
    }
   ],
   "source": [
    "import random\n",
    "number = random.randint(0, 10)\n",
    "guess = int(input(\"player: \"))\n",
    "count = 1\n",
    "while guess != number:\n",
    "    if guess > number:\n",
    "        print(\"Try a smaller number.\")\n",
    "        guess = int(input(\"player: \"))\n",
    "        count += 1\n",
    "    elif guess < number:\n",
    "        print(\"Try a greater number.\")\n",
    "        guess = int(input(\"player: \"))\n",
    "        count += 1\n",
    "    else:\n",
    "        count += 1\n",
    "        break\n",
    "print(\"That’s right! Number of tries:\", count)"
   ]
  },
  {
   "cell_type": "markdown",
   "id": "7e2945ef",
   "metadata": {},
   "source": [
    "As a bonus(2points)you can extend your program to allow second play where another player can play and finally also display if Player1 or Player2 wins, by comparing the numbers of tries and choosing the one with smaller number."
   ]
  },
  {
   "cell_type": "code",
   "execution_count": 74,
   "id": "7b9d5e62",
   "metadata": {},
   "outputs": [
    {
     "name": "stdout",
     "output_type": "stream",
     "text": [
      "player1: 2\n",
      "That’s right! Number of tries: 1\n",
      "player2: 7\n",
      "Try a smaller number.\n",
      "player2: 3\n",
      "Try a smaller number.\n",
      "player2: 2\n",
      "That’s right! Number of tries: 3\n",
      "Winner is player1.\n"
     ]
    }
   ],
   "source": [
    "import random\n",
    "number = random.randint(0, 10)\n",
    "guess1 = int(input(\"player1: \"))\n",
    "count1 = 1\n",
    "while guess1 != number:\n",
    "    if guess1 > number:\n",
    "        print(\"Try a smaller number.\")\n",
    "        guess1 = int(input(\"player1: \"))\n",
    "        count1 += 1\n",
    "    elif guess1 < number:\n",
    "        print(\"Try a greater number.\")\n",
    "        guess1 = int(input(\"player1: \"))\n",
    "        count1 += 1\n",
    "    else:\n",
    "        count1 += 1\n",
    "        break\n",
    "print(\"That’s right! Number of tries:\", count1)\n",
    "\n",
    "guess2 = int(input(\"player2: \"))\n",
    "count2 = 1\n",
    "while guess2 != number:\n",
    "    if guess2 > number:\n",
    "        print(\"Try a smaller number.\")\n",
    "        guess2 = int(input(\"player2: \"))\n",
    "        count2 += 1\n",
    "    elif guess2 < number:\n",
    "        print(\"Try a greater number.\")\n",
    "        guess2 = int(input(\"player2: \"))\n",
    "        count2 += 1\n",
    "    else:\n",
    "        count2 += 1\n",
    "        break\n",
    "print(\"That’s right! Number of tries:\", count2)\n",
    "\n",
    "if count1 > count2:\n",
    "    print(\"Winner is player2.\")\n",
    "elif count1 < count2:\n",
    "    print(\"Winner is player1.\")\n",
    "else:\n",
    "    print(\"Player1 draws with player2.\")"
   ]
  }
 ],
 "metadata": {
  "kernelspec": {
   "display_name": "Python 3 (ipykernel)",
   "language": "python",
   "name": "python3"
  },
  "language_info": {
   "codemirror_mode": {
    "name": "ipython",
    "version": 3
   },
   "file_extension": ".py",
   "mimetype": "text/x-python",
   "name": "python",
   "nbconvert_exporter": "python",
   "pygments_lexer": "ipython3",
   "version": "3.9.13"
  }
 },
 "nbformat": 4,
 "nbformat_minor": 5
}
